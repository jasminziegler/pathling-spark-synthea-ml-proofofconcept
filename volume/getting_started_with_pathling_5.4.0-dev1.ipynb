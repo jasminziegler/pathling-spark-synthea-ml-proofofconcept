{
 "cells": [
  {
   "cell_type": "markdown",
   "metadata": {
    "pycharm": {
     "name": "#%% md\n"
    }
   },
   "source": [
    "AkHQ: http://localhost:8082\n",
    "Spark-Master http://localhost:8083\n",
    "Spark-Worker-1 http://localhost:8084\n",
    "\n",
    "https://github.com/aehrc/pathling/tree/issue/452/lib/python#python-api-for-pathling"
   ]
  },
  {
   "cell_type": "markdown",
   "metadata": {
    "pycharm": {
     "name": "#%% md\n"
    }
   },
   "source": [
    "# Try Connect To Test FHIR Kafka"
   ]
  },
  {
   "cell_type": "code",
   "execution_count": 2,
   "metadata": {
    "pycharm": {
     "name": "#%%\n"
    }
   },
   "outputs": [
    {
     "name": "stdout",
     "output_type": "stream",
     "text": [
      "Python 3.10.5\n"
     ]
    }
   ],
   "source": [
    "!python --version"
   ]
  },
  {
   "cell_type": "code",
   "execution_count": 3,
   "metadata": {
    "pycharm": {
     "name": "#%%\n"
    }
   },
   "outputs": [
    {
     "data": {
      "text/plain": [
       "environ{'SHELL': '/bin/bash',\n",
       "        'HOSTNAME': '33fb302b7bf4',\n",
       "        'LANGUAGE': 'en_US.UTF-8',\n",
       "        'SPARK_OPTS': '--driver-java-options=-Xms1024M --driver-java-options=-Xmx4096M --driver-java-options=-Dlog4j.logLevel=info',\n",
       "        'NB_UID': '1000',\n",
       "        'PWD': '/home/jovyan',\n",
       "        'HOME': '/home/jovyan',\n",
       "        'LANG': 'en_US.UTF-8',\n",
       "        'NB_GID': '100',\n",
       "        'XDG_CACHE_HOME': '/home/jovyan/.cache/',\n",
       "        'APACHE_SPARK_VERSION': '3.3.0',\n",
       "        'PYTHONPATH': '/usr/local/spark/python/lib/py4j-0.10.9.5-src.zip:/usr/local/spark/python:',\n",
       "        'HADOOP_VERSION': '3',\n",
       "        'SHLVL': '0',\n",
       "        'CONDA_DIR': '/opt/conda',\n",
       "        'SPARK_HOME': '/usr/local/spark',\n",
       "        'PATHLING_VERSION': '5.4.0',\n",
       "        'SPARK_CONF_DIR': '/usr/local/spark/conf',\n",
       "        'NB_USER': 'jovyan',\n",
       "        'LC_ALL': 'en_US.UTF-8',\n",
       "        'PATH': '/opt/conda/bin:/usr/local/sbin:/usr/local/bin:/usr/sbin:/usr/bin:/sbin:/bin:/usr/local/spark/bin',\n",
       "        'PYSPARK_PYTHONPATH_SET': '1',\n",
       "        'DEBIAN_FRONTEND': 'noninteractive',\n",
       "        'PYDEVD_USE_FRAME_EVAL': 'NO',\n",
       "        'JPY_PARENT_PID': '7',\n",
       "        'TERM': 'xterm-color',\n",
       "        'CLICOLOR': '1',\n",
       "        'PAGER': 'cat',\n",
       "        'GIT_PAGER': 'cat',\n",
       "        'MPLBACKEND': 'module://matplotlib_inline.backend_inline'}"
      ]
     },
     "execution_count": 3,
     "metadata": {},
     "output_type": "execute_result"
    }
   ],
   "source": [
    "import os\n",
    "os.environ"
   ]
  },
  {
   "cell_type": "code",
   "execution_count": 4,
   "metadata": {
    "pycharm": {
     "name": "#%%\n"
    }
   },
   "outputs": [],
   "source": [
    "# for debugging\n",
    "#os.environ[\"PYSPARK_SUBMIT_ARGS\"] = \"--packages org.apache.spark:spark-sql-kafka-0-10_2.12:3.2.1 pyspark-shell\""
   ]
  },
  {
   "cell_type": "code",
   "execution_count": 5,
   "metadata": {
    "pycharm": {
     "name": "#%%\n"
    }
   },
   "outputs": [],
   "source": [
    "appName = \"Kafka, Spark and FHIR Data\"\n",
    "master = \"spark://spark-master:7077\"\n",
    "#master = \"local[*]\"\n",
    "kafka_topic = \"fhir.post-gateway-kdb\""
   ]
  },
  {
   "cell_type": "code",
   "execution_count": 6,
   "metadata": {
    "pycharm": {
     "name": "#%%\n"
    }
   },
   "outputs": [],
   "source": [
    "from pyspark.sql import SparkSession\n",
    "from pyspark.conf import SparkConf\n",
    "from pathling.etc import find_jar\n",
    "\n",
    "#conf = SparkConf()\n",
    "#conf.setMaster(master) \\\n",
    "#    .setAppName(appName) \\\n",
    "#    .set(\"spark.ui.port\",\"0\")\n",
    "\n",
    "# get current jars\n",
    "#spark_jars = conf.get(\"spark.jars\")\n",
    "# append pathling jar\n",
    "#updated_spark_jars = spark_jars + \",file://\" + find_jar()\n",
    "\n",
    "#updated_spark_jars = [\"/test/1.jar\", \"/test2.jar\"]\n",
    "\n",
    "spark = SparkSession.builder \\\n",
    "    .appName(appName) \\\n",
    "    .master(master) \\\n",
    "    .config(\"spark.ui.port\",\"0\") \\\n",
    "    .getOrCreate()\n",
    "\n",
    "spark.sparkContext.addFile(find_jar())"
   ]
  },
  {
   "cell_type": "code",
   "execution_count": 7,
   "metadata": {
    "pycharm": {
     "name": "#%%\n"
    }
   },
   "outputs": [
    {
     "data": {
      "text/plain": [
       "'file:///home/jovyan/.ivy2/jars/org.apache.spark_spark-sql-kafka-0-10_2.12-3.3.0.jar,file:///home/jovyan/.ivy2/jars/au.csiro.pathling_library-api-5.4.0.jar,file:///home/jovyan/.ivy2/jars/org.apache.spark_spark-token-provider-kafka-0-10_2.12-3.3.0.jar,file:///home/jovyan/.ivy2/jars/org.apache.kafka_kafka-clients-2.8.1.jar,file:///home/jovyan/.ivy2/jars/org.apache.commons_commons-pool2-2.11.1.jar,file:///home/jovyan/.ivy2/jars/org.spark-project.spark_unused-1.0.0.jar,file:///home/jovyan/.ivy2/jars/org.apache.hadoop_hadoop-client-runtime-3.3.2.jar,file:///home/jovyan/.ivy2/jars/org.lz4_lz4-java-1.8.0.jar,file:///home/jovyan/.ivy2/jars/org.xerial.snappy_snappy-java-1.1.8.4.jar,file:///home/jovyan/.ivy2/jars/org.apache.hadoop_hadoop-client-api-3.3.2.jar,file:///home/jovyan/.ivy2/jars/au.csiro.pathling_encoders-5.4.0.jar,file:///home/jovyan/.ivy2/jars/au.csiro.pathling_terminology-5.4.0.jar,file:///home/jovyan/.ivy2/jars/ch.qos.logback_logback-classic-1.2.11.jar,file:///home/jovyan/.ivy2/jars/ca.uhn.hapi.fhir_hapi-fhir-base-6.0.3.jar,file:///home/jovyan/.ivy2/jars/ca.uhn.hapi.fhir_hapi-fhir-structures-r4-6.0.3.jar,file:///home/jovyan/.ivy2/jars/com.fasterxml.jackson.datatype_jackson-datatype-jsr310-2.13.3.jar,file:///home/jovyan/.ivy2/jars/com.fasterxml.jackson.core_jackson-databind-2.13.3.jar,file:///home/jovyan/.ivy2/jars/org.apache.commons_commons-lang3-3.12.0.jar,file:///home/jovyan/.ivy2/jars/org.apache.commons_commons-text-1.9.jar,file:///home/jovyan/.ivy2/jars/commons-codec_commons-codec-1.15.jar,file:///home/jovyan/.ivy2/jars/commons-io_commons-io-2.11.0.jar,file:///home/jovyan/.ivy2/jars/com.google.guava_guava-31.0.1-jre.jar,file:///home/jovyan/.ivy2/jars/org.slf4j_slf4j-api-1.7.36.jar,file:///home/jovyan/.ivy2/jars/com.fasterxml.jackson.core_jackson-annotations-2.13.3.jar,file:///home/jovyan/.ivy2/jars/com.fasterxml.jackson.core_jackson-core-2.13.3.jar,file:///home/jovyan/.ivy2/jars/com.google.guava_failureaccess-1.0.1.jar,file:///home/jovyan/.ivy2/jars/com.google.guava_listenablefuture-9999.0-empty-to-avoid-conflict-with-guava.jar,file:///home/jovyan/.ivy2/jars/org.checkerframework_checker-qual-3.12.0.jar,file:///home/jovyan/.ivy2/jars/com.google.errorprone_error_prone_annotations-2.7.1.jar,file:///home/jovyan/.ivy2/jars/com.google.j2objc_j2objc-annotations-1.3.jar,file:///home/jovyan/.ivy2/jars/com.squareup.okhttp3_okhttp-4.9.3.jar,file:///home/jovyan/.ivy2/jars/ca.uhn.hapi.fhir_org.hl7.fhir.utilities-5.6.36.jar,file:///home/jovyan/.ivy2/jars/ca.uhn.hapi.fhir_org.hl7.fhir.r4-5.6.36.jar,file:///home/jovyan/.ivy2/jars/com.squareup.okio_okio-2.8.0.jar,file:///home/jovyan/.ivy2/jars/org.jetbrains.kotlin_kotlin-stdlib-1.6.21.jar,file:///home/jovyan/.ivy2/jars/org.jetbrains.kotlin_kotlin-stdlib-common-1.6.21.jar,file:///home/jovyan/.ivy2/jars/org.jetbrains_annotations-23.0.0.jar,file:///home/jovyan/.ivy2/jars/org.slf4j_jcl-over-slf4j-1.7.36.jar,file:///home/jovyan/.ivy2/jars/au.csiro.pathling_utilities-5.4.0.jar,file:///home/jovyan/.ivy2/jars/ca.uhn.hapi.fhir_hapi-fhir-client-6.0.3.jar,file:///home/jovyan/.ivy2/jars/commons-beanutils_commons-beanutils-1.9.4.jar,file:///home/jovyan/.ivy2/jars/org.hibernate.validator_hibernate-validator-6.2.3.Final.jar,file:///home/jovyan/.ivy2/jars/com.google.code.findbugs_jsr305-3.0.2.jar,file:///home/jovyan/.ivy2/jars/org.apache.httpcomponents_httpclient-4.5.13.jar,file:///home/jovyan/.ivy2/jars/org.apache.httpcomponents_httpcore-4.4.15.jar,file:///home/jovyan/.ivy2/jars/commons-logging_commons-logging-1.2.jar,file:///home/jovyan/.ivy2/jars/commons-collections_commons-collections-3.2.2.jar,file:///home/jovyan/.ivy2/jars/jakarta.validation_jakarta.validation-api-2.0.2.jar,file:///home/jovyan/.ivy2/jars/org.jboss.logging_jboss-logging-3.4.3.Final.jar,file:///home/jovyan/.ivy2/jars/com.fasterxml_classmate-1.5.1.jar,file:///home/jovyan/.ivy2/jars/ch.qos.logback_logback-core-1.2.11.jar'"
      ]
     },
     "execution_count": 7,
     "metadata": {},
     "output_type": "execute_result"
    }
   ],
   "source": [
    "spark.sparkContext.getConf().get(\"spark.jars\")\n",
    "#updated_spark_jars"
   ]
  },
  {
   "cell_type": "code",
   "execution_count": 8,
   "metadata": {
    "pycharm": {
     "name": "#%%\n"
    }
   },
   "outputs": [],
   "source": [
    "# https://spark.apache.org/docs/latest/structured-streaming-kafka-integration.html\n",
    "# default for startingOffsets is \"latest\", but \"earliest\" allows rewind for missed alerts\n",
    "df = spark \\\n",
    "  .readStream  \\\n",
    "  .format(\"kafka\") \\\n",
    "  .option(\"kafka.bootstrap.servers\", \"kafka1:19092\") \\\n",
    "  .option(\"subscribe\", kafka_topic) \\\n",
    "  .option(\"startingOffsets\", \"earliest\") \\\n",
    "  .load()"
   ]
  },
  {
   "cell_type": "code",
   "execution_count": 9,
   "metadata": {
    "pycharm": {
     "name": "#%%\n"
    }
   },
   "outputs": [
    {
     "name": "stdout",
     "output_type": "stream",
     "text": [
      "root\n",
      " |-- key: binary (nullable = true)\n",
      " |-- value: binary (nullable = true)\n",
      " |-- topic: string (nullable = true)\n",
      " |-- partition: integer (nullable = true)\n",
      " |-- offset: long (nullable = true)\n",
      " |-- timestamp: timestamp (nullable = true)\n",
      " |-- timestampType: integer (nullable = true)\n",
      "\n"
     ]
    }
   ],
   "source": [
    "df.printSchema()"
   ]
  },
  {
   "cell_type": "code",
   "execution_count": 10,
   "metadata": {
    "pycharm": {
     "name": "#%%\n"
    }
   },
   "outputs": [
    {
     "data": {
      "text/plain": [
       "False"
      ]
     },
     "execution_count": 10,
     "metadata": {},
     "output_type": "execute_result"
    }
   ],
   "source": [
    "query = df.selectExpr(\"CAST(key AS STRING)\", \"CAST(value AS STRING)\") \\\n",
    "          .writeStream \\\n",
    "          .queryName(\"gettable\") \\\n",
    "          .format(\"memory\") \\\n",
    "          .start()\n",
    "\n",
    "# close connection after 30 seconds\n",
    "query.awaitTermination(30)"
   ]
  },
  {
   "cell_type": "code",
   "execution_count": 11,
   "metadata": {
    "pycharm": {
     "name": "#%%\n"
    }
   },
   "outputs": [
    {
     "name": "stdout",
     "output_type": "stream",
     "text": [
      "+-------------------+--------------------+\n",
      "|                key|               value|\n",
      "+-------------------+--------------------+\n",
      "|    Patient/patient|{\"resourceType\": ...|\n",
      "|Condition/condition|{\"resourceType\": ...|\n",
      "|Condition/condition|{\"resourceType\": ...|\n",
      "|Procedure/procedure|{\"resourceType\": ...|\n",
      "|Encounter/encounter|{\"resourceType\": ...|\n",
      "+-------------------+--------------------+\n",
      "\n"
     ]
    },
    {
     "data": {
      "text/plain": [
       "pyspark.sql.dataframe.DataFrame"
      ]
     },
     "execution_count": 11,
     "metadata": {},
     "output_type": "execute_result"
    }
   ],
   "source": [
    "kafka_data = spark.sql(\"select * from gettable\")\n",
    "kafka_data.show()\n",
    "type(kafka_data)"
   ]
  },
  {
   "cell_type": "code",
   "execution_count": 12,
   "metadata": {
    "pycharm": {
     "name": "#%%\n"
    }
   },
   "outputs": [
    {
     "data": {
      "text/html": [
       "<div>\n",
       "<style scoped>\n",
       "    .dataframe tbody tr th:only-of-type {\n",
       "        vertical-align: middle;\n",
       "    }\n",
       "\n",
       "    .dataframe tbody tr th {\n",
       "        vertical-align: top;\n",
       "    }\n",
       "\n",
       "    .dataframe thead th {\n",
       "        text-align: right;\n",
       "    }\n",
       "</style>\n",
       "<table border=\"1\" class=\"dataframe\">\n",
       "  <thead>\n",
       "    <tr style=\"text-align: right;\">\n",
       "      <th></th>\n",
       "      <th>key</th>\n",
       "      <th>value</th>\n",
       "    </tr>\n",
       "  </thead>\n",
       "  <tbody>\n",
       "    <tr>\n",
       "      <th>0</th>\n",
       "      <td>Patient/patient</td>\n",
       "      <td>{\"resourceType\": \"Bundle\", \"meta\": {\"security\"...</td>\n",
       "    </tr>\n",
       "    <tr>\n",
       "      <th>1</th>\n",
       "      <td>Condition/condition</td>\n",
       "      <td>{\"resourceType\": \"Bundle\", \"meta\": {\"security\"...</td>\n",
       "    </tr>\n",
       "    <tr>\n",
       "      <th>2</th>\n",
       "      <td>Condition/condition</td>\n",
       "      <td>{\"resourceType\": \"Bundle\", \"meta\": {\"security\"...</td>\n",
       "    </tr>\n",
       "    <tr>\n",
       "      <th>3</th>\n",
       "      <td>Procedure/procedure</td>\n",
       "      <td>{\"resourceType\": \"Bundle\",\"meta\": {\"security\":...</td>\n",
       "    </tr>\n",
       "    <tr>\n",
       "      <th>4</th>\n",
       "      <td>Encounter/encounter</td>\n",
       "      <td>{\"resourceType\": \"Bundle\", \"meta\": {\"security\"...</td>\n",
       "    </tr>\n",
       "  </tbody>\n",
       "</table>\n",
       "</div>"
      ],
      "text/plain": [
       "                   key                                              value\n",
       "0      Patient/patient  {\"resourceType\": \"Bundle\", \"meta\": {\"security\"...\n",
       "1  Condition/condition  {\"resourceType\": \"Bundle\", \"meta\": {\"security\"...\n",
       "2  Condition/condition  {\"resourceType\": \"Bundle\", \"meta\": {\"security\"...\n",
       "3  Procedure/procedure  {\"resourceType\": \"Bundle\",\"meta\": {\"security\":...\n",
       "4  Encounter/encounter  {\"resourceType\": \"Bundle\", \"meta\": {\"security\"..."
      ]
     },
     "execution_count": 12,
     "metadata": {},
     "output_type": "execute_result"
    }
   ],
   "source": [
    "pd_df = kafka_data.toPandas()\n",
    "pd_df"
   ]
  },
  {
   "cell_type": "markdown",
   "metadata": {
    "pycharm": {
     "name": "#%% md\n"
    }
   },
   "source": [
    "# Bring Pathling into the game"
   ]
  },
  {
   "cell_type": "code",
   "execution_count": 13,
   "metadata": {
    "pycharm": {
     "name": "#%%\n"
    }
   },
   "outputs": [],
   "source": [
    "import pathling\n",
    "from pathling import PathlingContext\n",
    "\n",
    "ptl = PathlingContext.create(spark = spark)"
   ]
  },
  {
   "cell_type": "code",
   "execution_count": 14,
   "metadata": {
    "collapsed": false,
    "jupyter": {
     "outputs_hidden": false
    },
    "pycharm": {
     "name": "#%%\n"
    }
   },
   "outputs": [],
   "source": [
    "# readme-example\n",
    "#n_bundles = spark.read.text('/home/jovyan/pathling/lib/python/examples/data/bundles/', wholetext=True)\n",
    "#n_bundles\n",
    "#type(n_bundles)"
   ]
  },
  {
   "cell_type": "code",
   "execution_count": 15,
   "metadata": {
    "collapsed": false,
    "jupyter": {
     "outputs_hidden": false
    },
    "pycharm": {
     "name": "#%%\n"
    }
   },
   "outputs": [
    {
     "data": {
      "text/plain": [
       "DataFrame[value: string]"
      ]
     },
     "execution_count": 15,
     "metadata": {},
     "output_type": "execute_result"
    }
   ],
   "source": [
    "kafka_data.select(\"value\")"
   ]
  },
  {
   "cell_type": "code",
   "execution_count": 16,
   "metadata": {
    "collapsed": false,
    "jupyter": {
     "outputs_hidden": false
    },
    "pycharm": {
     "name": "#%%\n"
    }
   },
   "outputs": [],
   "source": [
    "patients = ptl.encode_bundle(kafka_data.select(\"value\"), 'Patient')\n",
    "encounter = ptl.encode_bundle(kafka_data.select(\"value\"), 'Encounter')\n",
    "condition = ptl.encode_bundle(kafka_data.select(\"value\"), 'Condition')"
   ]
  },
  {
   "cell_type": "code",
   "execution_count": 17,
   "metadata": {
    "pycharm": {
     "name": "#%%\n"
    }
   },
   "outputs": [
    {
     "name": "stdout",
     "output_type": "stream",
     "text": [
      "root\n",
      " |-- id: string (nullable = true)\n",
      " |-- id_versioned: string (nullable = true)\n",
      " |-- meta: struct (nullable = true)\n",
      " |    |-- id: string (nullable = true)\n",
      " |    |-- versionId: string (nullable = true)\n",
      " |    |-- versionId_versioned: string (nullable = true)\n",
      " |    |-- lastUpdated: timestamp (nullable = true)\n",
      " |    |-- source: string (nullable = true)\n",
      " |    |-- profile: array (nullable = true)\n",
      " |    |    |-- element: string (containsNull = true)\n",
      " |    |-- security: array (nullable = true)\n",
      " |    |    |-- element: struct (containsNull = true)\n",
      " |    |    |    |-- id: string (nullable = true)\n",
      " |    |    |    |-- system: string (nullable = true)\n",
      " |    |    |    |-- version: string (nullable = true)\n",
      " |    |    |    |-- code: string (nullable = true)\n",
      " |    |    |    |-- display: string (nullable = true)\n",
      " |    |    |    |-- userSelected: boolean (nullable = true)\n",
      " |    |-- tag: array (nullable = true)\n",
      " |    |    |-- element: struct (containsNull = true)\n",
      " |    |    |    |-- id: string (nullable = true)\n",
      " |    |    |    |-- system: string (nullable = true)\n",
      " |    |    |    |-- version: string (nullable = true)\n",
      " |    |    |    |-- code: string (nullable = true)\n",
      " |    |    |    |-- display: string (nullable = true)\n",
      " |    |    |    |-- userSelected: boolean (nullable = true)\n",
      " |-- implicitRules: string (nullable = true)\n",
      " |-- language: string (nullable = true)\n",
      " |-- text: struct (nullable = true)\n",
      " |    |-- id: string (nullable = true)\n",
      " |    |-- status: string (nullable = true)\n",
      " |    |-- div: string (nullable = true)\n",
      " |-- identifier: array (nullable = true)\n",
      " |    |-- element: struct (containsNull = true)\n",
      " |    |    |-- id: string (nullable = true)\n",
      " |    |    |-- use: string (nullable = true)\n",
      " |    |    |-- type: struct (nullable = true)\n",
      " |    |    |    |-- id: string (nullable = true)\n",
      " |    |    |    |-- coding: array (nullable = true)\n",
      " |    |    |    |    |-- element: struct (containsNull = true)\n",
      " |    |    |    |    |    |-- id: string (nullable = true)\n",
      " |    |    |    |    |    |-- system: string (nullable = true)\n",
      " |    |    |    |    |    |-- version: string (nullable = true)\n",
      " |    |    |    |    |    |-- code: string (nullable = true)\n",
      " |    |    |    |    |    |-- display: string (nullable = true)\n",
      " |    |    |    |    |    |-- userSelected: boolean (nullable = true)\n",
      " |    |    |    |-- text: string (nullable = true)\n",
      " |    |    |-- system: string (nullable = true)\n",
      " |    |    |-- value: string (nullable = true)\n",
      " |    |    |-- period: struct (nullable = true)\n",
      " |    |    |    |-- id: string (nullable = true)\n",
      " |    |    |    |-- start: string (nullable = true)\n",
      " |    |    |    |-- end: string (nullable = true)\n",
      " |    |    |-- assigner: struct (nullable = true)\n",
      " |    |    |    |-- reference: string (nullable = true)\n",
      " |    |    |    |-- display: string (nullable = true)\n",
      " |-- status: string (nullable = true)\n",
      " |-- statusHistory: array (nullable = true)\n",
      " |    |-- element: struct (containsNull = true)\n",
      " |    |    |-- id: string (nullable = true)\n",
      " |    |    |-- status: string (nullable = true)\n",
      " |    |    |-- period: struct (nullable = true)\n",
      " |    |    |    |-- id: string (nullable = true)\n",
      " |    |    |    |-- start: string (nullable = true)\n",
      " |    |    |    |-- end: string (nullable = true)\n",
      " |-- class: struct (nullable = true)\n",
      " |    |-- id: string (nullable = true)\n",
      " |    |-- system: string (nullable = true)\n",
      " |    |-- version: string (nullable = true)\n",
      " |    |-- code: string (nullable = true)\n",
      " |    |-- display: string (nullable = true)\n",
      " |    |-- userSelected: boolean (nullable = true)\n",
      " |-- classHistory: array (nullable = true)\n",
      " |    |-- element: struct (containsNull = true)\n",
      " |    |    |-- id: string (nullable = true)\n",
      " |    |    |-- class: struct (nullable = true)\n",
      " |    |    |    |-- id: string (nullable = true)\n",
      " |    |    |    |-- system: string (nullable = true)\n",
      " |    |    |    |-- version: string (nullable = true)\n",
      " |    |    |    |-- code: string (nullable = true)\n",
      " |    |    |    |-- display: string (nullable = true)\n",
      " |    |    |    |-- userSelected: boolean (nullable = true)\n",
      " |    |    |-- period: struct (nullable = true)\n",
      " |    |    |    |-- id: string (nullable = true)\n",
      " |    |    |    |-- start: string (nullable = true)\n",
      " |    |    |    |-- end: string (nullable = true)\n",
      " |-- type: array (nullable = true)\n",
      " |    |-- element: struct (containsNull = true)\n",
      " |    |    |-- id: string (nullable = true)\n",
      " |    |    |-- coding: array (nullable = true)\n",
      " |    |    |    |-- element: struct (containsNull = true)\n",
      " |    |    |    |    |-- id: string (nullable = true)\n",
      " |    |    |    |    |-- system: string (nullable = true)\n",
      " |    |    |    |    |-- version: string (nullable = true)\n",
      " |    |    |    |    |-- code: string (nullable = true)\n",
      " |    |    |    |    |-- display: string (nullable = true)\n",
      " |    |    |    |    |-- userSelected: boolean (nullable = true)\n",
      " |    |    |-- text: string (nullable = true)\n",
      " |-- serviceType: struct (nullable = true)\n",
      " |    |-- id: string (nullable = true)\n",
      " |    |-- coding: array (nullable = true)\n",
      " |    |    |-- element: struct (containsNull = true)\n",
      " |    |    |    |-- id: string (nullable = true)\n",
      " |    |    |    |-- system: string (nullable = true)\n",
      " |    |    |    |-- version: string (nullable = true)\n",
      " |    |    |    |-- code: string (nullable = true)\n",
      " |    |    |    |-- display: string (nullable = true)\n",
      " |    |    |    |-- userSelected: boolean (nullable = true)\n",
      " |    |-- text: string (nullable = true)\n",
      " |-- priority: struct (nullable = true)\n",
      " |    |-- id: string (nullable = true)\n",
      " |    |-- coding: array (nullable = true)\n",
      " |    |    |-- element: struct (containsNull = true)\n",
      " |    |    |    |-- id: string (nullable = true)\n",
      " |    |    |    |-- system: string (nullable = true)\n",
      " |    |    |    |-- version: string (nullable = true)\n",
      " |    |    |    |-- code: string (nullable = true)\n",
      " |    |    |    |-- display: string (nullable = true)\n",
      " |    |    |    |-- userSelected: boolean (nullable = true)\n",
      " |    |-- text: string (nullable = true)\n",
      " |-- subject: struct (nullable = true)\n",
      " |    |-- reference: string (nullable = true)\n",
      " |    |-- display: string (nullable = true)\n",
      " |-- episodeOfCare: array (nullable = true)\n",
      " |    |-- element: struct (containsNull = true)\n",
      " |    |    |-- reference: string (nullable = true)\n",
      " |    |    |-- display: string (nullable = true)\n",
      " |-- basedOn: array (nullable = true)\n",
      " |    |-- element: struct (containsNull = true)\n",
      " |    |    |-- reference: string (nullable = true)\n",
      " |    |    |-- display: string (nullable = true)\n",
      " |-- participant: array (nullable = true)\n",
      " |    |-- element: struct (containsNull = true)\n",
      " |    |    |-- id: string (nullable = true)\n",
      " |    |    |-- type: array (nullable = true)\n",
      " |    |    |    |-- element: struct (containsNull = true)\n",
      " |    |    |    |    |-- id: string (nullable = true)\n",
      " |    |    |    |    |-- coding: array (nullable = true)\n",
      " |    |    |    |    |    |-- element: struct (containsNull = true)\n",
      " |    |    |    |    |    |    |-- id: string (nullable = true)\n",
      " |    |    |    |    |    |    |-- system: string (nullable = true)\n",
      " |    |    |    |    |    |    |-- version: string (nullable = true)\n",
      " |    |    |    |    |    |    |-- code: string (nullable = true)\n",
      " |    |    |    |    |    |    |-- display: string (nullable = true)\n",
      " |    |    |    |    |    |    |-- userSelected: boolean (nullable = true)\n",
      " |    |    |    |    |-- text: string (nullable = true)\n",
      " |    |    |-- period: struct (nullable = true)\n",
      " |    |    |    |-- id: string (nullable = true)\n",
      " |    |    |    |-- start: string (nullable = true)\n",
      " |    |    |    |-- end: string (nullable = true)\n",
      " |    |    |-- individual: struct (nullable = true)\n",
      " |    |    |    |-- reference: string (nullable = true)\n",
      " |    |    |    |-- display: string (nullable = true)\n",
      " |-- appointment: array (nullable = true)\n",
      " |    |-- element: struct (containsNull = true)\n",
      " |    |    |-- reference: string (nullable = true)\n",
      " |    |    |-- display: string (nullable = true)\n",
      " |-- period: struct (nullable = true)\n",
      " |    |-- id: string (nullable = true)\n",
      " |    |-- start: string (nullable = true)\n",
      " |    |-- end: string (nullable = true)\n",
      " |-- length: struct (nullable = true)\n",
      " |    |-- id: string (nullable = true)\n",
      " |    |-- value: decimal(26,6) (nullable = true)\n",
      " |    |-- value_scale: integer (nullable = true)\n",
      " |    |-- comparator: string (nullable = true)\n",
      " |    |-- unit: string (nullable = true)\n",
      " |    |-- system: string (nullable = true)\n",
      " |    |-- code: string (nullable = true)\n",
      " |-- reasonCode: array (nullable = true)\n",
      " |    |-- element: struct (containsNull = true)\n",
      " |    |    |-- id: string (nullable = true)\n",
      " |    |    |-- coding: array (nullable = true)\n",
      " |    |    |    |-- element: struct (containsNull = true)\n",
      " |    |    |    |    |-- id: string (nullable = true)\n",
      " |    |    |    |    |-- system: string (nullable = true)\n",
      " |    |    |    |    |-- version: string (nullable = true)\n",
      " |    |    |    |    |-- code: string (nullable = true)\n",
      " |    |    |    |    |-- display: string (nullable = true)\n",
      " |    |    |    |    |-- userSelected: boolean (nullable = true)\n",
      " |    |    |-- text: string (nullable = true)\n",
      " |-- reasonReference: array (nullable = true)\n",
      " |    |-- element: struct (containsNull = true)\n",
      " |    |    |-- reference: string (nullable = true)\n",
      " |    |    |-- display: string (nullable = true)\n",
      " |-- diagnosis: array (nullable = true)\n",
      " |    |-- element: struct (containsNull = true)\n",
      " |    |    |-- id: string (nullable = true)\n",
      " |    |    |-- condition: struct (nullable = true)\n",
      " |    |    |    |-- reference: string (nullable = true)\n",
      " |    |    |    |-- display: string (nullable = true)\n",
      " |    |    |-- use: struct (nullable = true)\n",
      " |    |    |    |-- id: string (nullable = true)\n",
      " |    |    |    |-- coding: array (nullable = true)\n",
      " |    |    |    |    |-- element: struct (containsNull = true)\n",
      " |    |    |    |    |    |-- id: string (nullable = true)\n",
      " |    |    |    |    |    |-- system: string (nullable = true)\n",
      " |    |    |    |    |    |-- version: string (nullable = true)\n",
      " |    |    |    |    |    |-- code: string (nullable = true)\n",
      " |    |    |    |    |    |-- display: string (nullable = true)\n",
      " |    |    |    |    |    |-- userSelected: boolean (nullable = true)\n",
      " |    |    |    |-- text: string (nullable = true)\n",
      " |    |    |-- rank: integer (nullable = true)\n",
      " |-- account: array (nullable = true)\n",
      " |    |-- element: struct (containsNull = true)\n",
      " |    |    |-- reference: string (nullable = true)\n",
      " |    |    |-- display: string (nullable = true)\n",
      " |-- hospitalization: struct (nullable = true)\n",
      " |    |-- id: string (nullable = true)\n",
      " |    |-- preAdmissionIdentifier: struct (nullable = true)\n",
      " |    |    |-- id: string (nullable = true)\n",
      " |    |    |-- use: string (nullable = true)\n",
      " |    |    |-- type: struct (nullable = true)\n",
      " |    |    |    |-- id: string (nullable = true)\n",
      " |    |    |    |-- coding: array (nullable = true)\n",
      " |    |    |    |    |-- element: struct (containsNull = true)\n",
      " |    |    |    |    |    |-- id: string (nullable = true)\n",
      " |    |    |    |    |    |-- system: string (nullable = true)\n",
      " |    |    |    |    |    |-- version: string (nullable = true)\n",
      " |    |    |    |    |    |-- code: string (nullable = true)\n",
      " |    |    |    |    |    |-- display: string (nullable = true)\n",
      " |    |    |    |    |    |-- userSelected: boolean (nullable = true)\n",
      " |    |    |    |-- text: string (nullable = true)\n",
      " |    |    |-- system: string (nullable = true)\n",
      " |    |    |-- value: string (nullable = true)\n",
      " |    |    |-- period: struct (nullable = true)\n",
      " |    |    |    |-- id: string (nullable = true)\n",
      " |    |    |    |-- start: string (nullable = true)\n",
      " |    |    |    |-- end: string (nullable = true)\n",
      " |    |    |-- assigner: struct (nullable = true)\n",
      " |    |    |    |-- reference: string (nullable = true)\n",
      " |    |    |    |-- display: string (nullable = true)\n",
      " |    |-- origin: struct (nullable = true)\n",
      " |    |    |-- reference: string (nullable = true)\n",
      " |    |    |-- display: string (nullable = true)\n",
      " |    |-- admitSource: struct (nullable = true)\n",
      " |    |    |-- id: string (nullable = true)\n",
      " |    |    |-- coding: array (nullable = true)\n",
      " |    |    |    |-- element: struct (containsNull = true)\n",
      " |    |    |    |    |-- id: string (nullable = true)\n",
      " |    |    |    |    |-- system: string (nullable = true)\n",
      " |    |    |    |    |-- version: string (nullable = true)\n",
      " |    |    |    |    |-- code: string (nullable = true)\n",
      " |    |    |    |    |-- display: string (nullable = true)\n",
      " |    |    |    |    |-- userSelected: boolean (nullable = true)\n",
      " |    |    |-- text: string (nullable = true)\n",
      " |    |-- reAdmission: struct (nullable = true)\n",
      " |    |    |-- id: string (nullable = true)\n",
      " |    |    |-- coding: array (nullable = true)\n",
      " |    |    |    |-- element: struct (containsNull = true)\n",
      " |    |    |    |    |-- id: string (nullable = true)\n",
      " |    |    |    |    |-- system: string (nullable = true)\n",
      " |    |    |    |    |-- version: string (nullable = true)\n",
      " |    |    |    |    |-- code: string (nullable = true)\n",
      " |    |    |    |    |-- display: string (nullable = true)\n",
      " |    |    |    |    |-- userSelected: boolean (nullable = true)\n",
      " |    |    |-- text: string (nullable = true)\n",
      " |    |-- dietPreference: array (nullable = true)\n",
      " |    |    |-- element: struct (containsNull = true)\n",
      " |    |    |    |-- id: string (nullable = true)\n",
      " |    |    |    |-- coding: array (nullable = true)\n",
      " |    |    |    |    |-- element: struct (containsNull = true)\n",
      " |    |    |    |    |    |-- id: string (nullable = true)\n",
      " |    |    |    |    |    |-- system: string (nullable = true)\n",
      " |    |    |    |    |    |-- version: string (nullable = true)\n",
      " |    |    |    |    |    |-- code: string (nullable = true)\n",
      " |    |    |    |    |    |-- display: string (nullable = true)\n",
      " |    |    |    |    |    |-- userSelected: boolean (nullable = true)\n",
      " |    |    |    |-- text: string (nullable = true)\n",
      " |    |-- specialCourtesy: array (nullable = true)\n",
      " |    |    |-- element: struct (containsNull = true)\n",
      " |    |    |    |-- id: string (nullable = true)\n",
      " |    |    |    |-- coding: array (nullable = true)\n",
      " |    |    |    |    |-- element: struct (containsNull = true)\n",
      " |    |    |    |    |    |-- id: string (nullable = true)\n",
      " |    |    |    |    |    |-- system: string (nullable = true)\n",
      " |    |    |    |    |    |-- version: string (nullable = true)\n",
      " |    |    |    |    |    |-- code: string (nullable = true)\n",
      " |    |    |    |    |    |-- display: string (nullable = true)\n",
      " |    |    |    |    |    |-- userSelected: boolean (nullable = true)\n",
      " |    |    |    |-- text: string (nullable = true)\n",
      " |    |-- specialArrangement: array (nullable = true)\n",
      " |    |    |-- element: struct (containsNull = true)\n",
      " |    |    |    |-- id: string (nullable = true)\n",
      " |    |    |    |-- coding: array (nullable = true)\n",
      " |    |    |    |    |-- element: struct (containsNull = true)\n",
      " |    |    |    |    |    |-- id: string (nullable = true)\n",
      " |    |    |    |    |    |-- system: string (nullable = true)\n",
      " |    |    |    |    |    |-- version: string (nullable = true)\n",
      " |    |    |    |    |    |-- code: string (nullable = true)\n",
      " |    |    |    |    |    |-- display: string (nullable = true)\n",
      " |    |    |    |    |    |-- userSelected: boolean (nullable = true)\n",
      " |    |    |    |-- text: string (nullable = true)\n",
      " |    |-- destination: struct (nullable = true)\n",
      " |    |    |-- reference: string (nullable = true)\n",
      " |    |    |-- display: string (nullable = true)\n",
      " |    |-- dischargeDisposition: struct (nullable = true)\n",
      " |    |    |-- id: string (nullable = true)\n",
      " |    |    |-- coding: array (nullable = true)\n",
      " |    |    |    |-- element: struct (containsNull = true)\n",
      " |    |    |    |    |-- id: string (nullable = true)\n",
      " |    |    |    |    |-- system: string (nullable = true)\n",
      " |    |    |    |    |-- version: string (nullable = true)\n",
      " |    |    |    |    |-- code: string (nullable = true)\n",
      " |    |    |    |    |-- display: string (nullable = true)\n",
      " |    |    |    |    |-- userSelected: boolean (nullable = true)\n",
      " |    |    |-- text: string (nullable = true)\n",
      " |-- location: array (nullable = true)\n",
      " |    |-- element: struct (containsNull = true)\n",
      " |    |    |-- id: string (nullable = true)\n",
      " |    |    |-- location: struct (nullable = true)\n",
      " |    |    |    |-- reference: string (nullable = true)\n",
      " |    |    |    |-- display: string (nullable = true)\n",
      " |    |    |-- status: string (nullable = true)\n",
      " |    |    |-- physicalType: struct (nullable = true)\n",
      " |    |    |    |-- id: string (nullable = true)\n",
      " |    |    |    |-- coding: array (nullable = true)\n",
      " |    |    |    |    |-- element: struct (containsNull = true)\n",
      " |    |    |    |    |    |-- id: string (nullable = true)\n",
      " |    |    |    |    |    |-- system: string (nullable = true)\n",
      " |    |    |    |    |    |-- version: string (nullable = true)\n",
      " |    |    |    |    |    |-- code: string (nullable = true)\n",
      " |    |    |    |    |    |-- display: string (nullable = true)\n",
      " |    |    |    |    |    |-- userSelected: boolean (nullable = true)\n",
      " |    |    |    |-- text: string (nullable = true)\n",
      " |    |    |-- period: struct (nullable = true)\n",
      " |    |    |    |-- id: string (nullable = true)\n",
      " |    |    |    |-- start: string (nullable = true)\n",
      " |    |    |    |-- end: string (nullable = true)\n",
      " |-- serviceProvider: struct (nullable = true)\n",
      " |    |-- reference: string (nullable = true)\n",
      " |    |-- display: string (nullable = true)\n",
      " |-- partOf: struct (nullable = true)\n",
      " |    |-- reference: string (nullable = true)\n",
      " |    |-- display: string (nullable = true)\n",
      "\n"
     ]
    }
   ],
   "source": [
    "encounter.printSchema()"
   ]
  },
  {
   "cell_type": "code",
   "execution_count": 18,
   "metadata": {
    "pycharm": {
     "name": "#%%\n"
    }
   },
   "outputs": [
    {
     "data": {
      "text/html": [
       "<div>\n",
       "<style scoped>\n",
       "    .dataframe tbody tr th:only-of-type {\n",
       "        vertical-align: middle;\n",
       "    }\n",
       "\n",
       "    .dataframe tbody tr th {\n",
       "        vertical-align: top;\n",
       "    }\n",
       "\n",
       "    .dataframe thead th {\n",
       "        text-align: right;\n",
       "    }\n",
       "</style>\n",
       "<table border=\"1\" class=\"dataframe\">\n",
       "  <thead>\n",
       "    <tr style=\"text-align: right;\">\n",
       "      <th></th>\n",
       "      <th>id</th>\n",
       "      <th>reference</th>\n",
       "      <th>code</th>\n",
       "      <th>start</th>\n",
       "      <th>end</th>\n",
       "    </tr>\n",
       "  </thead>\n",
       "  <tbody>\n",
       "    <tr>\n",
       "      <th>0</th>\n",
       "      <td>encounter</td>\n",
       "      <td>Patient/patient</td>\n",
       "      <td>[2200, 2200]</td>\n",
       "      <td>2021-11-09T05:41:53+00:00</td>\n",
       "      <td>None</td>\n",
       "    </tr>\n",
       "  </tbody>\n",
       "</table>\n",
       "</div>"
      ],
      "text/plain": [
       "          id        reference          code                      start   end\n",
       "0  encounter  Patient/patient  [2200, 2200]  2021-11-09T05:41:53+00:00  None"
      ]
     },
     "execution_count": 18,
     "metadata": {},
     "output_type": "execute_result"
    }
   ],
   "source": [
    "encounter.select(\"id\", \"subject.reference\", \"serviceType.coding.code\", \"period.start\", \"period.end\").toPandas()"
   ]
  },
  {
   "cell_type": "code",
   "execution_count": 19,
   "metadata": {
    "pycharm": {
     "name": "#%%\n"
    }
   },
   "outputs": [
    {
     "name": "stdout",
     "output_type": "stream",
     "text": [
      "root\n",
      " |-- id: string (nullable = true)\n",
      " |-- id_versioned: string (nullable = true)\n",
      " |-- meta: struct (nullable = true)\n",
      " |    |-- id: string (nullable = true)\n",
      " |    |-- versionId: string (nullable = true)\n",
      " |    |-- versionId_versioned: string (nullable = true)\n",
      " |    |-- lastUpdated: timestamp (nullable = true)\n",
      " |    |-- source: string (nullable = true)\n",
      " |    |-- profile: array (nullable = true)\n",
      " |    |    |-- element: string (containsNull = true)\n",
      " |    |-- security: array (nullable = true)\n",
      " |    |    |-- element: struct (containsNull = true)\n",
      " |    |    |    |-- id: string (nullable = true)\n",
      " |    |    |    |-- system: string (nullable = true)\n",
      " |    |    |    |-- version: string (nullable = true)\n",
      " |    |    |    |-- code: string (nullable = true)\n",
      " |    |    |    |-- display: string (nullable = true)\n",
      " |    |    |    |-- userSelected: boolean (nullable = true)\n",
      " |    |-- tag: array (nullable = true)\n",
      " |    |    |-- element: struct (containsNull = true)\n",
      " |    |    |    |-- id: string (nullable = true)\n",
      " |    |    |    |-- system: string (nullable = true)\n",
      " |    |    |    |-- version: string (nullable = true)\n",
      " |    |    |    |-- code: string (nullable = true)\n",
      " |    |    |    |-- display: string (nullable = true)\n",
      " |    |    |    |-- userSelected: boolean (nullable = true)\n",
      " |-- implicitRules: string (nullable = true)\n",
      " |-- language: string (nullable = true)\n",
      " |-- text: struct (nullable = true)\n",
      " |    |-- id: string (nullable = true)\n",
      " |    |-- status: string (nullable = true)\n",
      " |    |-- div: string (nullable = true)\n",
      " |-- identifier: array (nullable = true)\n",
      " |    |-- element: struct (containsNull = true)\n",
      " |    |    |-- id: string (nullable = true)\n",
      " |    |    |-- use: string (nullable = true)\n",
      " |    |    |-- type: struct (nullable = true)\n",
      " |    |    |    |-- id: string (nullable = true)\n",
      " |    |    |    |-- coding: array (nullable = true)\n",
      " |    |    |    |    |-- element: struct (containsNull = true)\n",
      " |    |    |    |    |    |-- id: string (nullable = true)\n",
      " |    |    |    |    |    |-- system: string (nullable = true)\n",
      " |    |    |    |    |    |-- version: string (nullable = true)\n",
      " |    |    |    |    |    |-- code: string (nullable = true)\n",
      " |    |    |    |    |    |-- display: string (nullable = true)\n",
      " |    |    |    |    |    |-- userSelected: boolean (nullable = true)\n",
      " |    |    |    |-- text: string (nullable = true)\n",
      " |    |    |-- system: string (nullable = true)\n",
      " |    |    |-- value: string (nullable = true)\n",
      " |    |    |-- period: struct (nullable = true)\n",
      " |    |    |    |-- id: string (nullable = true)\n",
      " |    |    |    |-- start: string (nullable = true)\n",
      " |    |    |    |-- end: string (nullable = true)\n",
      " |    |    |-- assigner: struct (nullable = true)\n",
      " |    |    |    |-- reference: string (nullable = true)\n",
      " |    |    |    |-- display: string (nullable = true)\n",
      " |-- clinicalStatus: struct (nullable = true)\n",
      " |    |-- id: string (nullable = true)\n",
      " |    |-- coding: array (nullable = true)\n",
      " |    |    |-- element: struct (containsNull = true)\n",
      " |    |    |    |-- id: string (nullable = true)\n",
      " |    |    |    |-- system: string (nullable = true)\n",
      " |    |    |    |-- version: string (nullable = true)\n",
      " |    |    |    |-- code: string (nullable = true)\n",
      " |    |    |    |-- display: string (nullable = true)\n",
      " |    |    |    |-- userSelected: boolean (nullable = true)\n",
      " |    |-- text: string (nullable = true)\n",
      " |-- verificationStatus: struct (nullable = true)\n",
      " |    |-- id: string (nullable = true)\n",
      " |    |-- coding: array (nullable = true)\n",
      " |    |    |-- element: struct (containsNull = true)\n",
      " |    |    |    |-- id: string (nullable = true)\n",
      " |    |    |    |-- system: string (nullable = true)\n",
      " |    |    |    |-- version: string (nullable = true)\n",
      " |    |    |    |-- code: string (nullable = true)\n",
      " |    |    |    |-- display: string (nullable = true)\n",
      " |    |    |    |-- userSelected: boolean (nullable = true)\n",
      " |    |-- text: string (nullable = true)\n",
      " |-- category: array (nullable = true)\n",
      " |    |-- element: struct (containsNull = true)\n",
      " |    |    |-- id: string (nullable = true)\n",
      " |    |    |-- coding: array (nullable = true)\n",
      " |    |    |    |-- element: struct (containsNull = true)\n",
      " |    |    |    |    |-- id: string (nullable = true)\n",
      " |    |    |    |    |-- system: string (nullable = true)\n",
      " |    |    |    |    |-- version: string (nullable = true)\n",
      " |    |    |    |    |-- code: string (nullable = true)\n",
      " |    |    |    |    |-- display: string (nullable = true)\n",
      " |    |    |    |    |-- userSelected: boolean (nullable = true)\n",
      " |    |    |-- text: string (nullable = true)\n",
      " |-- severity: struct (nullable = true)\n",
      " |    |-- id: string (nullable = true)\n",
      " |    |-- coding: array (nullable = true)\n",
      " |    |    |-- element: struct (containsNull = true)\n",
      " |    |    |    |-- id: string (nullable = true)\n",
      " |    |    |    |-- system: string (nullable = true)\n",
      " |    |    |    |-- version: string (nullable = true)\n",
      " |    |    |    |-- code: string (nullable = true)\n",
      " |    |    |    |-- display: string (nullable = true)\n",
      " |    |    |    |-- userSelected: boolean (nullable = true)\n",
      " |    |-- text: string (nullable = true)\n",
      " |-- code: struct (nullable = true)\n",
      " |    |-- id: string (nullable = true)\n",
      " |    |-- coding: array (nullable = true)\n",
      " |    |    |-- element: struct (containsNull = true)\n",
      " |    |    |    |-- id: string (nullable = true)\n",
      " |    |    |    |-- system: string (nullable = true)\n",
      " |    |    |    |-- version: string (nullable = true)\n",
      " |    |    |    |-- code: string (nullable = true)\n",
      " |    |    |    |-- display: string (nullable = true)\n",
      " |    |    |    |-- userSelected: boolean (nullable = true)\n",
      " |    |-- text: string (nullable = true)\n",
      " |-- bodySite: array (nullable = true)\n",
      " |    |-- element: struct (containsNull = true)\n",
      " |    |    |-- id: string (nullable = true)\n",
      " |    |    |-- coding: array (nullable = true)\n",
      " |    |    |    |-- element: struct (containsNull = true)\n",
      " |    |    |    |    |-- id: string (nullable = true)\n",
      " |    |    |    |    |-- system: string (nullable = true)\n",
      " |    |    |    |    |-- version: string (nullable = true)\n",
      " |    |    |    |    |-- code: string (nullable = true)\n",
      " |    |    |    |    |-- display: string (nullable = true)\n",
      " |    |    |    |    |-- userSelected: boolean (nullable = true)\n",
      " |    |    |-- text: string (nullable = true)\n",
      " |-- subject: struct (nullable = true)\n",
      " |    |-- reference: string (nullable = true)\n",
      " |    |-- display: string (nullable = true)\n",
      " |-- encounter: struct (nullable = true)\n",
      " |    |-- reference: string (nullable = true)\n",
      " |    |-- display: string (nullable = true)\n",
      " |-- onsetAge: struct (nullable = true)\n",
      " |    |-- id: string (nullable = true)\n",
      " |    |-- value: decimal(26,6) (nullable = true)\n",
      " |    |-- value_scale: integer (nullable = true)\n",
      " |    |-- comparator: string (nullable = true)\n",
      " |    |-- unit: string (nullable = true)\n",
      " |    |-- system: string (nullable = true)\n",
      " |    |-- code: string (nullable = true)\n",
      " |-- onsetDateTime: string (nullable = true)\n",
      " |-- onsetPeriod: struct (nullable = true)\n",
      " |    |-- id: string (nullable = true)\n",
      " |    |-- start: string (nullable = true)\n",
      " |    |-- end: string (nullable = true)\n",
      " |-- onsetRange: struct (nullable = true)\n",
      " |    |-- id: string (nullable = true)\n",
      " |    |-- low: struct (nullable = true)\n",
      " |    |    |-- id: string (nullable = true)\n",
      " |    |    |-- value: decimal(26,6) (nullable = true)\n",
      " |    |    |-- value_scale: integer (nullable = true)\n",
      " |    |    |-- comparator: string (nullable = true)\n",
      " |    |    |-- unit: string (nullable = true)\n",
      " |    |    |-- system: string (nullable = true)\n",
      " |    |    |-- code: string (nullable = true)\n",
      " |    |-- high: struct (nullable = true)\n",
      " |    |    |-- id: string (nullable = true)\n",
      " |    |    |-- value: decimal(26,6) (nullable = true)\n",
      " |    |    |-- value_scale: integer (nullable = true)\n",
      " |    |    |-- comparator: string (nullable = true)\n",
      " |    |    |-- unit: string (nullable = true)\n",
      " |    |    |-- system: string (nullable = true)\n",
      " |    |    |-- code: string (nullable = true)\n",
      " |-- onsetString: string (nullable = true)\n",
      " |-- abatementAge: struct (nullable = true)\n",
      " |    |-- id: string (nullable = true)\n",
      " |    |-- value: decimal(26,6) (nullable = true)\n",
      " |    |-- value_scale: integer (nullable = true)\n",
      " |    |-- comparator: string (nullable = true)\n",
      " |    |-- unit: string (nullable = true)\n",
      " |    |-- system: string (nullable = true)\n",
      " |    |-- code: string (nullable = true)\n",
      " |-- abatementDateTime: string (nullable = true)\n",
      " |-- abatementPeriod: struct (nullable = true)\n",
      " |    |-- id: string (nullable = true)\n",
      " |    |-- start: string (nullable = true)\n",
      " |    |-- end: string (nullable = true)\n",
      " |-- abatementRange: struct (nullable = true)\n",
      " |    |-- id: string (nullable = true)\n",
      " |    |-- low: struct (nullable = true)\n",
      " |    |    |-- id: string (nullable = true)\n",
      " |    |    |-- value: decimal(26,6) (nullable = true)\n",
      " |    |    |-- value_scale: integer (nullable = true)\n",
      " |    |    |-- comparator: string (nullable = true)\n",
      " |    |    |-- unit: string (nullable = true)\n",
      " |    |    |-- system: string (nullable = true)\n",
      " |    |    |-- code: string (nullable = true)\n",
      " |    |-- high: struct (nullable = true)\n",
      " |    |    |-- id: string (nullable = true)\n",
      " |    |    |-- value: decimal(26,6) (nullable = true)\n",
      " |    |    |-- value_scale: integer (nullable = true)\n",
      " |    |    |-- comparator: string (nullable = true)\n",
      " |    |    |-- unit: string (nullable = true)\n",
      " |    |    |-- system: string (nullable = true)\n",
      " |    |    |-- code: string (nullable = true)\n",
      " |-- abatementString: string (nullable = true)\n",
      " |-- recordedDate: string (nullable = true)\n",
      " |-- recorder: struct (nullable = true)\n",
      " |    |-- reference: string (nullable = true)\n",
      " |    |-- display: string (nullable = true)\n",
      " |-- asserter: struct (nullable = true)\n",
      " |    |-- reference: string (nullable = true)\n",
      " |    |-- display: string (nullable = true)\n",
      " |-- stage: array (nullable = true)\n",
      " |    |-- element: struct (containsNull = true)\n",
      " |    |    |-- id: string (nullable = true)\n",
      " |    |    |-- summary: struct (nullable = true)\n",
      " |    |    |    |-- id: string (nullable = true)\n",
      " |    |    |    |-- coding: array (nullable = true)\n",
      " |    |    |    |    |-- element: struct (containsNull = true)\n",
      " |    |    |    |    |    |-- id: string (nullable = true)\n",
      " |    |    |    |    |    |-- system: string (nullable = true)\n",
      " |    |    |    |    |    |-- version: string (nullable = true)\n",
      " |    |    |    |    |    |-- code: string (nullable = true)\n",
      " |    |    |    |    |    |-- display: string (nullable = true)\n",
      " |    |    |    |    |    |-- userSelected: boolean (nullable = true)\n",
      " |    |    |    |-- text: string (nullable = true)\n",
      " |    |    |-- assessment: array (nullable = true)\n",
      " |    |    |    |-- element: struct (containsNull = true)\n",
      " |    |    |    |    |-- reference: string (nullable = true)\n",
      " |    |    |    |    |-- display: string (nullable = true)\n",
      " |    |    |-- type: struct (nullable = true)\n",
      " |    |    |    |-- id: string (nullable = true)\n",
      " |    |    |    |-- coding: array (nullable = true)\n",
      " |    |    |    |    |-- element: struct (containsNull = true)\n",
      " |    |    |    |    |    |-- id: string (nullable = true)\n",
      " |    |    |    |    |    |-- system: string (nullable = true)\n",
      " |    |    |    |    |    |-- version: string (nullable = true)\n",
      " |    |    |    |    |    |-- code: string (nullable = true)\n",
      " |    |    |    |    |    |-- display: string (nullable = true)\n",
      " |    |    |    |    |    |-- userSelected: boolean (nullable = true)\n",
      " |    |    |    |-- text: string (nullable = true)\n",
      " |-- evidence: array (nullable = true)\n",
      " |    |-- element: struct (containsNull = true)\n",
      " |    |    |-- id: string (nullable = true)\n",
      " |    |    |-- code: array (nullable = true)\n",
      " |    |    |    |-- element: struct (containsNull = true)\n",
      " |    |    |    |    |-- id: string (nullable = true)\n",
      " |    |    |    |    |-- coding: array (nullable = true)\n",
      " |    |    |    |    |    |-- element: struct (containsNull = true)\n",
      " |    |    |    |    |    |    |-- id: string (nullable = true)\n",
      " |    |    |    |    |    |    |-- system: string (nullable = true)\n",
      " |    |    |    |    |    |    |-- version: string (nullable = true)\n",
      " |    |    |    |    |    |    |-- code: string (nullable = true)\n",
      " |    |    |    |    |    |    |-- display: string (nullable = true)\n",
      " |    |    |    |    |    |    |-- userSelected: boolean (nullable = true)\n",
      " |    |    |    |    |-- text: string (nullable = true)\n",
      " |    |    |-- detail: array (nullable = true)\n",
      " |    |    |    |-- element: struct (containsNull = true)\n",
      " |    |    |    |    |-- reference: string (nullable = true)\n",
      " |    |    |    |    |-- display: string (nullable = true)\n",
      " |-- note: array (nullable = true)\n",
      " |    |-- element: struct (containsNull = true)\n",
      " |    |    |-- id: string (nullable = true)\n",
      " |    |    |-- authorReference: struct (nullable = true)\n",
      " |    |    |    |-- reference: string (nullable = true)\n",
      " |    |    |    |-- display: string (nullable = true)\n",
      " |    |    |-- authorString: string (nullable = true)\n",
      " |    |    |-- time: string (nullable = true)\n",
      " |    |    |-- text: string (nullable = true)\n",
      "\n"
     ]
    }
   ],
   "source": [
    "condition.printSchema()"
   ]
  },
  {
   "cell_type": "code",
   "execution_count": 20,
   "metadata": {
    "pycharm": {
     "name": "#%%\n"
    }
   },
   "outputs": [
    {
     "data": {
      "text/html": [
       "<div>\n",
       "<style scoped>\n",
       "    .dataframe tbody tr th:only-of-type {\n",
       "        vertical-align: middle;\n",
       "    }\n",
       "\n",
       "    .dataframe tbody tr th {\n",
       "        vertical-align: top;\n",
       "    }\n",
       "\n",
       "    .dataframe thead th {\n",
       "        text-align: right;\n",
       "    }\n",
       "</style>\n",
       "<table border=\"1\" class=\"dataframe\">\n",
       "  <thead>\n",
       "    <tr style=\"text-align: right;\">\n",
       "      <th></th>\n",
       "      <th>id</th>\n",
       "      <th>reference</th>\n",
       "      <th>code</th>\n",
       "    </tr>\n",
       "  </thead>\n",
       "  <tbody>\n",
       "    <tr>\n",
       "      <th>0</th>\n",
       "      <td>condition</td>\n",
       "      <td>Encounter/encounter</td>\n",
       "      <td>[H57.0]</td>\n",
       "    </tr>\n",
       "    <tr>\n",
       "      <th>1</th>\n",
       "      <td>condition</td>\n",
       "      <td>Encounter/encounter</td>\n",
       "      <td>[H57.0]</td>\n",
       "    </tr>\n",
       "  </tbody>\n",
       "</table>\n",
       "</div>"
      ],
      "text/plain": [
       "          id            reference     code\n",
       "0  condition  Encounter/encounter  [H57.0]\n",
       "1  condition  Encounter/encounter  [H57.0]"
      ]
     },
     "execution_count": 20,
     "metadata": {},
     "output_type": "execute_result"
    }
   ],
   "source": [
    "condition.select(\"id\", \"encounter.reference\", \"code.coding.code\").toPandas()"
   ]
  },
  {
   "cell_type": "code",
   "execution_count": 21,
   "metadata": {
    "pycharm": {
     "name": "#%%\n"
    }
   },
   "outputs": [],
   "source": [
    "from pyspark.sql.functions import regexp_replace, col\n",
    "\n",
    "pt1 = patients.select(\"id\", \"birthDate\", \"gender\", \"address.postalCode\")\n",
    "\n",
    "enc1 = encounter \\\n",
    "    .select(\n",
    "        col(\"id\").alias(\"encounter_id\"),\n",
    "        \"subject.reference\",\n",
    "        col(\"serviceType.coding.code\").alias(\"servicetype_code\"),\n",
    "        col(\"period.start\").alias(\"period_start\"),\n",
    "        col(\"period.end\").alias(\"period_end\")\n",
    "       ) \\\n",
    "    .withColumn(\"patient_id\", regexp_replace(\"reference\", \"Patient/\", \"\"))\n",
    "\n",
    "cd1 = condition \\\n",
    "    .select(\n",
    "        \"id\",\n",
    "        \"encounter.reference\",\n",
    "        col(\"code.coding.code\").alias(\"condition_code\")\n",
    "       ) \\\n",
    "    .withColumn(\"cond_encounter_id\", regexp_replace(\"reference\", \"Encounter/\", \"\"))"
   ]
  },
  {
   "cell_type": "code",
   "execution_count": 22,
   "metadata": {
    "pycharm": {
     "name": "#%%\n"
    }
   },
   "outputs": [],
   "source": [
    "join1 = enc1 \\\n",
    "    .join(pt1, enc1.patient_id == pt1.id)\n",
    "join2 = join1 \\\n",
    "    .select(\"encounter_id\", \"servicetype_code\", \"period_start\", \"period_end\", \"patient_id\", \"birthDate\", \"gender\", \"postalCode\") \\\n",
    "    .join(cd1, join1.encounter_id == cd1.cond_encounter_id) \\\n",
    "    .select(\"encounter_id\", \"servicetype_code\", \"period_start\", \"period_end\", \"patient_id\", \"birthDate\", \"gender\", \"postalCode\", \"condition_code\")"
   ]
  },
  {
   "cell_type": "code",
   "execution_count": 23,
   "metadata": {
    "pycharm": {
     "name": "#%%\n"
    }
   },
   "outputs": [
    {
     "data": {
      "text/html": [
       "<div>\n",
       "<style scoped>\n",
       "    .dataframe tbody tr th:only-of-type {\n",
       "        vertical-align: middle;\n",
       "    }\n",
       "\n",
       "    .dataframe tbody tr th {\n",
       "        vertical-align: top;\n",
       "    }\n",
       "\n",
       "    .dataframe thead th {\n",
       "        text-align: right;\n",
       "    }\n",
       "</style>\n",
       "<table border=\"1\" class=\"dataframe\">\n",
       "  <thead>\n",
       "    <tr style=\"text-align: right;\">\n",
       "      <th></th>\n",
       "      <th>encounter_id</th>\n",
       "      <th>servicetype_code</th>\n",
       "      <th>period_start</th>\n",
       "      <th>period_end</th>\n",
       "      <th>patient_id</th>\n",
       "      <th>birthDate</th>\n",
       "      <th>gender</th>\n",
       "      <th>postalCode</th>\n",
       "      <th>condition_code</th>\n",
       "    </tr>\n",
       "  </thead>\n",
       "  <tbody>\n",
       "    <tr>\n",
       "      <th>0</th>\n",
       "      <td>encounter</td>\n",
       "      <td>[2200, 2200]</td>\n",
       "      <td>2021-11-09T05:41:53+00:00</td>\n",
       "      <td>None</td>\n",
       "      <td>patient</td>\n",
       "      <td>1990-01-01</td>\n",
       "      <td>female</td>\n",
       "      <td>[12345]</td>\n",
       "      <td>[H57.0]</td>\n",
       "    </tr>\n",
       "    <tr>\n",
       "      <th>1</th>\n",
       "      <td>encounter</td>\n",
       "      <td>[2200, 2200]</td>\n",
       "      <td>2021-11-09T05:41:53+00:00</td>\n",
       "      <td>None</td>\n",
       "      <td>patient</td>\n",
       "      <td>1990-01-01</td>\n",
       "      <td>female</td>\n",
       "      <td>[12345]</td>\n",
       "      <td>[H57.0]</td>\n",
       "    </tr>\n",
       "  </tbody>\n",
       "</table>\n",
       "</div>"
      ],
      "text/plain": [
       "  encounter_id servicetype_code               period_start period_end  \\\n",
       "0    encounter     [2200, 2200]  2021-11-09T05:41:53+00:00       None   \n",
       "1    encounter     [2200, 2200]  2021-11-09T05:41:53+00:00       None   \n",
       "\n",
       "  patient_id   birthDate  gender postalCode condition_code  \n",
       "0    patient  1990-01-01  female    [12345]        [H57.0]  \n",
       "1    patient  1990-01-01  female    [12345]        [H57.0]  "
      ]
     },
     "execution_count": 23,
     "metadata": {},
     "output_type": "execute_result"
    }
   ],
   "source": [
    "join2.toPandas()\n"
   ]
  },
  {
   "cell_type": "code",
   "execution_count": null,
   "metadata": {},
   "outputs": [],
   "source": []
  }
 ],
 "metadata": {
  "anaconda-cloud": {},
  "kernelspec": {
   "display_name": "Python 3 (ipykernel)",
   "language": "python",
   "name": "python3"
  },
  "language_info": {
   "codemirror_mode": {
    "name": "ipython",
    "version": 3
   },
   "file_extension": ".py",
   "mimetype": "text/x-python",
   "name": "python",
   "nbconvert_exporter": "python",
   "pygments_lexer": "ipython3",
   "version": "3.10.6"
  },
  "vscode": {
   "interpreter": {
    "hash": "369f2c481f4da34e4445cda3fffd2e751bd1c4d706f27375911949ba6bb62e1c"
   }
  }
 },
 "nbformat": 4,
 "nbformat_minor": 4
}
