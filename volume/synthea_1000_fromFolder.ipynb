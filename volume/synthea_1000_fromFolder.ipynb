{
 "cells": [
  {
   "cell_type": "markdown",
   "metadata": {},
   "source": [
    "AkHQ: http://localhost:8082  \n",
    "Spark-Master http://localhost:8083  \n",
    "Spark-Worker-1 http://localhost:8084\n",
    "\n",
    "https://github.com/aehrc/pathling/tree/issue/452/lib/python#python-api-for-pathling"
   ]
  },
  {
   "cell_type": "markdown",
   "metadata": {},
   "source": [
    "# Import artificially generated FHIR Resources - 1000 patients generated with Synthea"
   ]
  },
  {
   "cell_type": "code",
   "execution_count": 1,
   "metadata": {},
   "outputs": [
    {
     "name": "stdout",
     "output_type": "stream",
     "text": [
      "Python 3.10.6\n"
     ]
    }
   ],
   "source": [
    "!python --version"
   ]
  },
  {
   "cell_type": "code",
   "execution_count": 2,
   "metadata": {},
   "outputs": [
    {
     "data": {
      "text/plain": [
       "environ{'SHELL': '/bin/bash',\n",
       "        'HOSTNAME': '41cf76cb1205',\n",
       "        'LANGUAGE': 'en_US.UTF-8',\n",
       "        'SPARK_OPTS': '--driver-java-options=-Xms1024M --driver-java-options=-Xmx4096M --driver-java-options=-Dlog4j.logLevel=info',\n",
       "        'NB_UID': '1000',\n",
       "        'PWD': '/home/jovyan',\n",
       "        'HOME': '/home/jovyan',\n",
       "        'LANG': 'en_US.UTF-8',\n",
       "        'NB_GID': '100',\n",
       "        'XDG_CACHE_HOME': '/home/jovyan/.cache/',\n",
       "        'APACHE_SPARK_VERSION': '3.3.0',\n",
       "        'PYTHONPATH': '/usr/local/spark/python/lib/py4j-0.10.9.5-src.zip:/usr/local/spark/python:',\n",
       "        'HADOOP_VERSION': '3',\n",
       "        'SHLVL': '0',\n",
       "        'CONDA_DIR': '/opt/conda',\n",
       "        'SPARK_HOME': '/usr/local/spark',\n",
       "        'PATHLING_VERSION': '5.4.0',\n",
       "        'SPARK_CONF_DIR': '/usr/local/spark/conf',\n",
       "        'NB_USER': 'jovyan',\n",
       "        'LC_ALL': 'en_US.UTF-8',\n",
       "        'PATH': '/opt/conda/bin:/usr/local/sbin:/usr/local/bin:/usr/sbin:/usr/bin:/sbin:/bin:/usr/local/spark/bin',\n",
       "        'PYSPARK_PYTHONPATH_SET': '1',\n",
       "        'DEBIAN_FRONTEND': 'noninteractive',\n",
       "        'JPY_SESSION_NAME': 'work/9b94b50d-04c4-4319-82a9-fd049ca55ee8',\n",
       "        'JPY_PARENT_PID': '7',\n",
       "        'TERM': 'xterm-color',\n",
       "        'CLICOLOR': '1',\n",
       "        'PAGER': 'cat',\n",
       "        'GIT_PAGER': 'cat',\n",
       "        'MPLBACKEND': 'module://matplotlib_inline.backend_inline'}"
      ]
     },
     "execution_count": 2,
     "metadata": {},
     "output_type": "execute_result"
    }
   ],
   "source": [
    "import os\n",
    "os.environ"
   ]
  },
  {
   "cell_type": "code",
   "execution_count": 4,
   "metadata": {
    "tags": []
   },
   "outputs": [],
   "source": [
    "appName = \"Kafka, Spark and FHIR Data\"\n",
    "master = \"spark://spark-master:7077\"\n",
    "#master = \"local[*]\"\n",
    "#kafka_topic = \"fhir.test.pathling\" #\"fhir.post-gateway-specimen\"\n",
    "#kafka_server = \"kafka1:19092\"\n",
    "#kafka_server = \"host.docker.internal:61687\" # port that kafka is forwarded to in Lens"
   ]
  },
  {
   "cell_type": "code",
   "execution_count": 5,
   "metadata": {},
   "outputs": [],
   "source": [
    "from pyspark.sql import SparkSession\n",
    "from pyspark.conf import SparkConf\n",
    "from pathling.etc import find_jar\n",
    "\n",
    "#conf = SparkConf()\n",
    "#conf.setMaster(master) \\\n",
    "#    .setAppName(appName) \\\n",
    "#    .set(\"spark.ui.port\",\"0\")\n",
    "\n",
    "# get current jars\n",
    "#spark_jars = conf.get(\"spark.jars\")\n",
    "# append pathling jar\n",
    "#updated_spark_jars = spark_jars + \",file://\" + find_jar()\n",
    "\n",
    "#updated_spark_jars = [\"/test/1.jar\", \"/test2.jar\"]\n",
    "\n",
    "spark = SparkSession.builder \\\n",
    "    .appName(appName) \\\n",
    "    .master(master) \\\n",
    "    .config(\"spark.ui.port\",\"0\") \\\n",
    "    .getOrCreate()\n",
    "\n",
    "spark.sparkContext.addFile(find_jar())"
   ]
  },
  {
   "cell_type": "markdown",
   "metadata": {},
   "source": [
    "# Bring Pathling into the game"
   ]
  },
  {
   "cell_type": "code",
   "execution_count": 6,
   "metadata": {},
   "outputs": [],
   "source": [
    "import pathling\n",
    "from pathling import PathlingContext\n",
    "from pyspark.sql.functions import regexp_replace, col, explode, concat_ws\n",
    "\n",
    "ptl = PathlingContext.create(spark = spark)"
   ]
  },
  {
   "cell_type": "markdown",
   "metadata": {},
   "source": [
    "### Pathling Encoder: Convert json Bundles from Synthea into structured FHIR resources\n",
    "### FIRST TEST: with 1 single bundle (1 patient + corresponding other resource types)"
   ]
  },
  {
   "cell_type": "code",
   "execution_count": 7,
   "metadata": {},
   "outputs": [
    {
     "name": "stdout",
     "output_type": "stream",
     "text": [
      "/home/jovyan/work\n"
     ]
    }
   ],
   "source": [
    "!pwd"
   ]
  },
  {
   "cell_type": "code",
   "execution_count": 10,
   "metadata": {},
   "outputs": [
    {
     "name": "stdout",
     "output_type": "stream",
     "text": [
      "fhir  metadata\tone_json_test\n"
     ]
    }
   ],
   "source": [
    "!ls synthea/"
   ]
  },
  {
   "cell_type": "code",
   "execution_count": 11,
   "metadata": {},
   "outputs": [],
   "source": [
    "bundles_dir = 'synthea/fhir/'\n",
    "bundles = ptl.spark.read.text(bundles_dir, wholetext=True)"
   ]
  },
  {
   "cell_type": "markdown",
   "metadata": {},
   "source": [
    "### PATIENTS RESOURCES"
   ]
  },
  {
   "cell_type": "code",
   "execution_count": 12,
   "metadata": {},
   "outputs": [],
   "source": [
    "patients = ptl.encode_bundle(bundles, 'Patient')"
   ]
  },
  {
   "cell_type": "code",
   "execution_count": 13,
   "metadata": {},
   "outputs": [
    {
     "name": "stdout",
     "output_type": "stream",
     "text": [
      "<class 'pyspark.sql.dataframe.DataFrame'>\n"
     ]
    }
   ],
   "source": [
    "print(type(patients))"
   ]
  },
  {
   "cell_type": "code",
   "execution_count": 26,
   "metadata": {},
   "outputs": [],
   "source": [
    "#patients.printSchema()"
   ]
  },
  {
   "cell_type": "code",
   "execution_count": 27,
   "metadata": {},
   "outputs": [],
   "source": [
    "patients_selection = patients.select(\n",
    "                                    col(\"id\").alias(\"patient_id\"), \\\n",
    "                                    'gender', 'birthDate', 'deceasedDateTime')"
   ]
  },
  {
   "cell_type": "code",
   "execution_count": 28,
   "metadata": {},
   "outputs": [
    {
     "name": "stdout",
     "output_type": "stream",
     "text": [
      "['patient_id', 'gender', 'birthDate', 'deceasedDateTime']\n"
     ]
    }
   ],
   "source": [
    "print(patients_selection.columns)"
   ]
  },
  {
   "cell_type": "code",
   "execution_count": 29,
   "metadata": {},
   "outputs": [
    {
     "name": "stdout",
     "output_type": "stream",
     "text": [
      "+--------------------+------+----------+--------------------+\n",
      "|          patient_id|gender| birthDate|    deceasedDateTime|\n",
      "+--------------------+------+----------+--------------------+\n",
      "|urn:uuid:3bc94ae3...|  male|1949-05-05|                null|\n",
      "|urn:uuid:249c1400...|  male|1922-11-18|                null|\n",
      "|urn:uuid:fc5937fc...|female|1953-03-27|                null|\n",
      "|urn:uuid:8588dc78...|female|1950-06-12|2012-10-14T02:21:...|\n",
      "|urn:uuid:dfcde42f...|  male|1927-04-11|1993-09-12T08:04:...|\n",
      "|urn:uuid:0362e73e...|female|1913-09-13|                null|\n",
      "|urn:uuid:6dfd981a...|  male|1948-08-07|                null|\n",
      "|urn:uuid:314cff1c...|female|1942-01-13|                null|\n",
      "|urn:uuid:bdae5890...|female|1956-02-28|                null|\n",
      "|urn:uuid:a2a11a91...|female|1953-04-06|                null|\n",
      "|urn:uuid:a2b725c5...|  male|1956-07-29|                null|\n",
      "|urn:uuid:91961269...|  male|1940-12-18|2018-12-10T20:46:...|\n",
      "|urn:uuid:b360962d...|female|1953-03-27|2014-05-15T13:43:...|\n",
      "|urn:uuid:96125e73...|female|1959-01-10|2009-11-23T11:56:...|\n",
      "|urn:uuid:94318223...|  male|1948-03-19|2016-03-25T17:49:...|\n",
      "|urn:uuid:1275f037...|  male|1956-11-01|                null|\n",
      "|urn:uuid:c9c0adfb...|female|1952-02-15|                null|\n",
      "|urn:uuid:50a75dd4...|  male|1968-02-05|                null|\n",
      "|urn:uuid:173e2b92...|female|1940-03-10|1997-03-06T17:52:...|\n",
      "|urn:uuid:642494f9...|female|1965-12-06|                null|\n",
      "+--------------------+------+----------+--------------------+\n",
      "only showing top 20 rows\n",
      "\n"
     ]
    }
   ],
   "source": [
    "patients_selection.show()"
   ]
  },
  {
   "cell_type": "code",
   "execution_count": 22,
   "metadata": {},
   "outputs": [],
   "source": [
    "# läd das hier schon alle in memory?? dauert es deshalb lang oder macht das hier noch gar nichts\n",
    "#patients_selection.toPandas()"
   ]
  },
  {
   "cell_type": "markdown",
   "metadata": {},
   "source": [
    "### ENCOUNTER - brauch ich vll nicht?"
   ]
  },
  {
   "cell_type": "code",
   "execution_count": 30,
   "metadata": {},
   "outputs": [],
   "source": [
    "encounters = ptl.encode_bundle(bundles, 'Encounter')"
   ]
  },
  {
   "cell_type": "code",
   "execution_count": null,
   "metadata": {},
   "outputs": [],
   "source": [
    "#encounters.printSchema()"
   ]
  },
  {
   "cell_type": "code",
   "execution_count": 31,
   "metadata": {},
   "outputs": [],
   "source": [
    "encounters_selection = encounters.select(\n",
    "                                        col(\"id\").alias(\"enc_id\"), \\\n",
    "                                        \"subject.reference\", \"period.start\", \"period.end\")"
   ]
  },
  {
   "cell_type": "code",
   "execution_count": 32,
   "metadata": {},
   "outputs": [
    {
     "data": {
      "text/html": [
       "<div>\n",
       "<style scoped>\n",
       "    .dataframe tbody tr th:only-of-type {\n",
       "        vertical-align: middle;\n",
       "    }\n",
       "\n",
       "    .dataframe tbody tr th {\n",
       "        vertical-align: top;\n",
       "    }\n",
       "\n",
       "    .dataframe thead th {\n",
       "        text-align: right;\n",
       "    }\n",
       "</style>\n",
       "<table border=\"1\" class=\"dataframe\">\n",
       "  <thead>\n",
       "    <tr style=\"text-align: right;\">\n",
       "      <th></th>\n",
       "      <th>enc_id</th>\n",
       "      <th>reference</th>\n",
       "      <th>start</th>\n",
       "      <th>end</th>\n",
       "    </tr>\n",
       "  </thead>\n",
       "  <tbody>\n",
       "    <tr>\n",
       "      <th>0</th>\n",
       "      <td>urn:uuid:4d2c5eb2-295b-5c6f-e9e2-f39da3f3aeaa</td>\n",
       "      <td>urn:uuid:3bc94ae3-0aa8-095b-a6f4-adc9a9468991</td>\n",
       "      <td>1949-06-07T19:07:56+02:00</td>\n",
       "      <td>1949-06-07T19:22:56+02:00</td>\n",
       "    </tr>\n",
       "    <tr>\n",
       "      <th>1</th>\n",
       "      <td>urn:uuid:c24faf25-239d-c036-8403-0c2553382b49</td>\n",
       "      <td>urn:uuid:3bc94ae3-0aa8-095b-a6f4-adc9a9468991</td>\n",
       "      <td>1961-02-15T22:35:56+01:00</td>\n",
       "      <td>1961-02-15T23:35:56+01:00</td>\n",
       "    </tr>\n",
       "    <tr>\n",
       "      <th>2</th>\n",
       "      <td>urn:uuid:94ebbaed-b5b4-811b-1224-e886db7ffd6b</td>\n",
       "      <td>urn:uuid:3bc94ae3-0aa8-095b-a6f4-adc9a9468991</td>\n",
       "      <td>1962-10-10T01:07:56+01:00</td>\n",
       "      <td>1962-10-10T01:22:56+01:00</td>\n",
       "    </tr>\n",
       "    <tr>\n",
       "      <th>3</th>\n",
       "      <td>urn:uuid:7f72fba6-fb43-0ee9-feef-208e5f26f32c</td>\n",
       "      <td>urn:uuid:3bc94ae3-0aa8-095b-a6f4-adc9a9468991</td>\n",
       "      <td>1964-06-11T20:07:56+01:00</td>\n",
       "      <td>1970-01-01T01:00:00+01:00</td>\n",
       "    </tr>\n",
       "    <tr>\n",
       "      <th>4</th>\n",
       "      <td>urn:uuid:cfb2c8ef-e4f4-2107-4582-ee445f5bb6e1</td>\n",
       "      <td>urn:uuid:3bc94ae3-0aa8-095b-a6f4-adc9a9468991</td>\n",
       "      <td>1964-09-30T20:07:56+01:00</td>\n",
       "      <td>1964-09-30T20:22:56+01:00</td>\n",
       "    </tr>\n",
       "    <tr>\n",
       "      <th>...</th>\n",
       "      <td>...</td>\n",
       "      <td>...</td>\n",
       "      <td>...</td>\n",
       "      <td>...</td>\n",
       "    </tr>\n",
       "    <tr>\n",
       "      <th>61216</th>\n",
       "      <td>urn:uuid:d7b8d34f-b5bb-0ba8-3777-1031c23a3863</td>\n",
       "      <td>urn:uuid:847a8fd2-d5b9-f6f3-06e2-59723f2730df</td>\n",
       "      <td>2023-01-07T05:38:17+01:00</td>\n",
       "      <td>2023-01-07T05:53:17+01:00</td>\n",
       "    </tr>\n",
       "    <tr>\n",
       "      <th>61217</th>\n",
       "      <td>urn:uuid:c5ac4c9f-b2e7-7b2d-5840-1ca9c50d1135</td>\n",
       "      <td>urn:uuid:533ef656-1fbc-7c99-dbcb-c6fa35dc13cb</td>\n",
       "      <td>2022-10-20T14:04:41+02:00</td>\n",
       "      <td>2022-10-20T14:19:41+02:00</td>\n",
       "    </tr>\n",
       "    <tr>\n",
       "      <th>61218</th>\n",
       "      <td>urn:uuid:3085c97e-b13e-197b-97e2-58bdc6678c6a</td>\n",
       "      <td>urn:uuid:533ef656-1fbc-7c99-dbcb-c6fa35dc13cb</td>\n",
       "      <td>2022-11-24T13:04:41+01:00</td>\n",
       "      <td>2022-11-24T13:19:41+01:00</td>\n",
       "    </tr>\n",
       "    <tr>\n",
       "      <th>61219</th>\n",
       "      <td>urn:uuid:4c9e13a9-7678-5835-4c70-524fecbb2ef8</td>\n",
       "      <td>urn:uuid:b311e788-2736-0ca2-a739-b6bdefe21f17</td>\n",
       "      <td>2022-11-25T23:10:59+01:00</td>\n",
       "      <td>2022-11-25T23:25:59+01:00</td>\n",
       "    </tr>\n",
       "    <tr>\n",
       "      <th>61220</th>\n",
       "      <td>urn:uuid:011fe79d-ab82-c2de-2138-1d87f1070886</td>\n",
       "      <td>urn:uuid:b311e788-2736-0ca2-a739-b6bdefe21f17</td>\n",
       "      <td>2022-12-30T23:10:59+01:00</td>\n",
       "      <td>2022-12-30T23:25:59+01:00</td>\n",
       "    </tr>\n",
       "  </tbody>\n",
       "</table>\n",
       "<p>61221 rows × 4 columns</p>\n",
       "</div>"
      ],
      "text/plain": [
       "                                              enc_id  \\\n",
       "0      urn:uuid:4d2c5eb2-295b-5c6f-e9e2-f39da3f3aeaa   \n",
       "1      urn:uuid:c24faf25-239d-c036-8403-0c2553382b49   \n",
       "2      urn:uuid:94ebbaed-b5b4-811b-1224-e886db7ffd6b   \n",
       "3      urn:uuid:7f72fba6-fb43-0ee9-feef-208e5f26f32c   \n",
       "4      urn:uuid:cfb2c8ef-e4f4-2107-4582-ee445f5bb6e1   \n",
       "...                                              ...   \n",
       "61216  urn:uuid:d7b8d34f-b5bb-0ba8-3777-1031c23a3863   \n",
       "61217  urn:uuid:c5ac4c9f-b2e7-7b2d-5840-1ca9c50d1135   \n",
       "61218  urn:uuid:3085c97e-b13e-197b-97e2-58bdc6678c6a   \n",
       "61219  urn:uuid:4c9e13a9-7678-5835-4c70-524fecbb2ef8   \n",
       "61220  urn:uuid:011fe79d-ab82-c2de-2138-1d87f1070886   \n",
       "\n",
       "                                           reference  \\\n",
       "0      urn:uuid:3bc94ae3-0aa8-095b-a6f4-adc9a9468991   \n",
       "1      urn:uuid:3bc94ae3-0aa8-095b-a6f4-adc9a9468991   \n",
       "2      urn:uuid:3bc94ae3-0aa8-095b-a6f4-adc9a9468991   \n",
       "3      urn:uuid:3bc94ae3-0aa8-095b-a6f4-adc9a9468991   \n",
       "4      urn:uuid:3bc94ae3-0aa8-095b-a6f4-adc9a9468991   \n",
       "...                                              ...   \n",
       "61216  urn:uuid:847a8fd2-d5b9-f6f3-06e2-59723f2730df   \n",
       "61217  urn:uuid:533ef656-1fbc-7c99-dbcb-c6fa35dc13cb   \n",
       "61218  urn:uuid:533ef656-1fbc-7c99-dbcb-c6fa35dc13cb   \n",
       "61219  urn:uuid:b311e788-2736-0ca2-a739-b6bdefe21f17   \n",
       "61220  urn:uuid:b311e788-2736-0ca2-a739-b6bdefe21f17   \n",
       "\n",
       "                           start                        end  \n",
       "0      1949-06-07T19:07:56+02:00  1949-06-07T19:22:56+02:00  \n",
       "1      1961-02-15T22:35:56+01:00  1961-02-15T23:35:56+01:00  \n",
       "2      1962-10-10T01:07:56+01:00  1962-10-10T01:22:56+01:00  \n",
       "3      1964-06-11T20:07:56+01:00  1970-01-01T01:00:00+01:00  \n",
       "4      1964-09-30T20:07:56+01:00  1964-09-30T20:22:56+01:00  \n",
       "...                          ...                        ...  \n",
       "61216  2023-01-07T05:38:17+01:00  2023-01-07T05:53:17+01:00  \n",
       "61217  2022-10-20T14:04:41+02:00  2022-10-20T14:19:41+02:00  \n",
       "61218  2022-11-24T13:04:41+01:00  2022-11-24T13:19:41+01:00  \n",
       "61219  2022-11-25T23:10:59+01:00  2022-11-25T23:25:59+01:00  \n",
       "61220  2022-12-30T23:10:59+01:00  2022-12-30T23:25:59+01:00  \n",
       "\n",
       "[61221 rows x 4 columns]"
      ]
     },
     "execution_count": 32,
     "metadata": {},
     "output_type": "execute_result"
    }
   ],
   "source": [
    "encounters_selection.toPandas()"
   ]
  },
  {
   "cell_type": "markdown",
   "metadata": {},
   "source": [
    "### CONDITIONS"
   ]
  },
  {
   "cell_type": "code",
   "execution_count": 33,
   "metadata": {},
   "outputs": [],
   "source": [
    "conditions = ptl.encode_bundle(bundles, 'Condition')"
   ]
  },
  {
   "cell_type": "code",
   "execution_count": 48,
   "metadata": {},
   "outputs": [],
   "source": [
    "#conditions.printSchema()"
   ]
  },
  {
   "cell_type": "code",
   "execution_count": 51,
   "metadata": {},
   "outputs": [],
   "source": [
    "conditions_selection = conditions.select(\n",
    "                                        col(\"id\").alias(\"condition_id\"), \\\n",
    "                                        col(\"subject.reference\").alias(\"condition_pat_id\"), \\\n",
    "                                        col(\"code.coding.system\").alias(\"condition_code_system\"), \\\n",
    "                                        col(\"code.coding.code\").alias(\"condition_code\"))"
   ]
  },
  {
   "cell_type": "code",
   "execution_count": 52,
   "metadata": {},
   "outputs": [
    {
     "name": "stdout",
     "output_type": "stream",
     "text": [
      "+--------------------+--------------------+---------------------+-----------------+\n",
      "|        condition_id|    condition_pat_id|condition_code_system|   condition_code|\n",
      "+--------------------+--------------------+---------------------+-----------------+\n",
      "|urn:uuid:9ea309b1...|urn:uuid:3bc94ae3...| [http://snomed.in...|      [160968000]|\n",
      "|urn:uuid:804e6bce...|urn:uuid:3bc94ae3...| [http://snomed.in...|      [160968000]|\n",
      "|urn:uuid:0880b230...|urn:uuid:3bc94ae3...| [http://snomed.in...|       [15777000]|\n",
      "|urn:uuid:ba14b272...|urn:uuid:3bc94ae3...| [http://snomed.in...|      [271737000]|\n",
      "|urn:uuid:884d1c22...|urn:uuid:3bc94ae3...| [http://snomed.in...|  [5251000175109]|\n",
      "|urn:uuid:c62336c1...|urn:uuid:3bc94ae3...| [http://snomed.in...|      [160904001]|\n",
      "|urn:uuid:4c69cbc2...|urn:uuid:3bc94ae3...| [http://snomed.in...|      [266948004]|\n",
      "|urn:uuid:2e5b3e43...|urn:uuid:3bc94ae3...| [http://snomed.in...|       [44054006]|\n",
      "|urn:uuid:5c1bd6cb...|urn:uuid:3bc94ae3...| [http://snomed.in...|       [59621000]|\n",
      "|urn:uuid:18f88708...|urn:uuid:3bc94ae3...| [http://snomed.in...|      [431856006]|\n",
      "|urn:uuid:29bf947b...|urn:uuid:3bc94ae3...| [http://snomed.in...|      [127013003]|\n",
      "|urn:uuid:4822db56...|urn:uuid:3bc94ae3...| [http://snomed.in...| [90781000119102]|\n",
      "|urn:uuid:84bccbba...|urn:uuid:3bc94ae3...| [http://snomed.in...|      [302870006]|\n",
      "|urn:uuid:14809615...|urn:uuid:3bc94ae3...| [http://snomed.in...|      [237602007]|\n",
      "|urn:uuid:b2d639c7...|urn:uuid:3bc94ae3...| [http://snomed.in...|[368581000119106]|\n",
      "|urn:uuid:e212e26f...|urn:uuid:3bc94ae3...| [http://snomed.in...|      [160904001]|\n",
      "|urn:uuid:03cba895...|urn:uuid:3bc94ae3...| [http://snomed.in...|      [160904001]|\n",
      "|urn:uuid:1dadf98f...|urn:uuid:3bc94ae3...| [http://snomed.in...|      [160904001]|\n",
      "|urn:uuid:0f00440b...|urn:uuid:3bc94ae3...| [http://snomed.in...|      [160904001]|\n",
      "|urn:uuid:9265851b...|urn:uuid:3bc94ae3...| [http://snomed.in...|      [160904001]|\n",
      "+--------------------+--------------------+---------------------+-----------------+\n",
      "only showing top 20 rows\n",
      "\n"
     ]
    }
   ],
   "source": [
    "conditions_selection.show()"
   ]
  },
  {
   "cell_type": "markdown",
   "metadata": {},
   "source": [
    "### AllergyIntolerance"
   ]
  },
  {
   "cell_type": "code",
   "execution_count": 57,
   "metadata": {},
   "outputs": [],
   "source": [
    "allergyIntolerances = ptl.encode_bundle(bundles, 'AllergyIntolerance')"
   ]
  },
  {
   "cell_type": "code",
   "execution_count": 58,
   "metadata": {},
   "outputs": [],
   "source": [
    "#allergyIntolerances.printSchema()"
   ]
  },
  {
   "cell_type": "code",
   "execution_count": 65,
   "metadata": {},
   "outputs": [],
   "source": [
    "allergyIntolerances_selection = allergyIntolerances.select(\"type\", \"category\", \"criticality\", \"code.coding.system\", \"code.coding.code\", \"patient.reference\", \"reaction\")"
   ]
  },
  {
   "cell_type": "code",
   "execution_count": 66,
   "metadata": {},
   "outputs": [
    {
     "name": "stdout",
     "output_type": "stream",
     "text": [
      "+-----------+-------------+-----------+--------------------+-----------+--------------------+--------------------+\n",
      "|       type|     category|criticality|              system|       code|           reference|            reaction|\n",
      "+-----------+-------------+-----------+--------------------+-----------+--------------------+--------------------+\n",
      "|    allergy|[environment]|        low|[http://snomed.in...| [84489001]|urn:uuid:0362e73e...|                  []|\n",
      "|    allergy|       [food]|        low|[http://snomed.in...|[735029006]|urn:uuid:0362e73e...|[{null, {null, []...|\n",
      "|    allergy|[environment]|        low|[http://snomed.in...|[256277009]|urn:uuid:bdae5890...|                  []|\n",
      "|    allergy|       [food]|        low|[http://snomed.in...|[735029006]|urn:uuid:bdae5890...|[{null, {null, []...|\n",
      "|    allergy|       [food]|        low|[http://snomed.in...|[762952008]|urn:uuid:94318223...|[{null, {null, []...|\n",
      "|    allergy|[environment]|        low|[http://snomed.in...| [84489001]|urn:uuid:4a06dacc...|                  []|\n",
      "|intolerance| [medication]|        low|[http://www.nlm.n...|    [29046]|urn:uuid:4a06dacc...|                  []|\n",
      "|    allergy| [medication]|        low|[http://www.nlm.n...|     [1191]|urn:uuid:4a06dacc...|                  []|\n",
      "|intolerance| [medication]|        low|[http://www.nlm.n...|    [29046]|urn:uuid:bd0e4852...|                  []|\n",
      "|    allergy|[environment]|        low|[http://snomed.in...|[111088007]|urn:uuid:5950f7bb...|[{null, {null, []...|\n",
      "|    allergy|[environment]|        low|[http://snomed.in...| [84489001]|urn:uuid:5950f7bb...|[{null, {null, []...|\n",
      "|    allergy|[environment]|        low|[http://snomed.in...|[260147004]|urn:uuid:5950f7bb...|                  []|\n",
      "|    allergy|[environment]|        low|[http://snomed.in...|[264287008]|urn:uuid:5950f7bb...|[{null, {null, []...|\n",
      "|    allergy|[environment]|        low|[http://snomed.in...|[256277009]|urn:uuid:5950f7bb...|                  []|\n",
      "|    allergy|[environment]|        low|[http://snomed.in...|[782576004]|urn:uuid:5950f7bb...|                  []|\n",
      "|    allergy| [medication]|        low|[http://www.nlm.n...|     [7984]|urn:uuid:5950f7bb...|[{null, {null, []...|\n",
      "|    allergy|       [food]|        low|[http://snomed.in...|  [3718001]|urn:uuid:5950f7bb...|[{null, {null, []...|\n",
      "|    allergy|       [food]|        low|[http://snomed.in...|[735029006]|urn:uuid:5950f7bb...|[{null, {null, []...|\n",
      "|    allergy|       [food]|        low|[http://snomed.in...|[762952008]|urn:uuid:5950f7bb...|[{null, {null, []...|\n",
      "|intolerance| [medication]|        low|[http://www.nlm.n...|    [29046]|urn:uuid:4453cac0...|                  []|\n",
      "+-----------+-------------+-----------+--------------------+-----------+--------------------+--------------------+\n",
      "only showing top 20 rows\n",
      "\n"
     ]
    }
   ],
   "source": [
    "allergyIntolerances_selection.show()"
   ]
  },
  {
   "cell_type": "code",
   "execution_count": null,
   "metadata": {},
   "outputs": [],
   "source": []
  }
 ],
 "metadata": {
  "anaconda-cloud": {},
  "kernelspec": {
   "display_name": "Python 3",
   "language": "python",
   "name": "python3"
  },
  "language_info": {
   "codemirror_mode": {
    "name": "ipython",
    "version": 3
   },
   "file_extension": ".py",
   "mimetype": "text/x-python",
   "name": "python",
   "nbconvert_exporter": "python",
   "pygments_lexer": "ipython3",
   "version": "3.10.6 (tags/v3.10.6:9c7b4bd, Aug  1 2022, 21:53:49) [MSC v.1932 64 bit (AMD64)]"
  },
  "vscode": {
   "interpreter": {
    "hash": "369f2c481f4da34e4445cda3fffd2e751bd1c4d706f27375911949ba6bb62e1c"
   }
  }
 },
 "nbformat": 4,
 "nbformat_minor": 4
}
